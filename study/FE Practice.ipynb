{
 "cells": [
  {
   "cell_type": "markdown",
   "metadata": {
    "collapsed": true,
    "pycharm": {
     "name": "#%% md\n"
    }
   },
   "source": [
    "# calculating the mean and standard dev\n",
    "\n",
    "# mean\n",
    "\n",
    "$$\\mu = \\frac{\\sum_{i=1}^n  x_i}{n}$$\n",
    "\n",
    "# population standard deviation\n",
    "\n",
    "$$\\sigma = \\sqrt{\\frac{1}{n}\\sum_{i=1}^{n} (x_i - \\mu)^2}$$\n",
    "\n",
    "\n",
    "# sample standard deviation estimator\n",
    "\n",
    "$$s = \\sqrt{\\frac{1}{n -1} \\sum_{i=1}^n (x_i - \\bar{x})^2}$$\n",
    "\n",
    "\n",
    "# law of sines\n",
    "\n",
    "$$\\frac{\\sin(}{}$$"
   ]
  }
 ],
 "metadata": {
  "kernelspec": {
   "display_name": "Python 3",
   "language": "python",
   "name": "python3"
  },
  "language_info": {
   "codemirror_mode": {
    "name": "ipython",
    "version": 2
   },
   "file_extension": ".py",
   "mimetype": "text/x-python",
   "name": "python",
   "nbconvert_exporter": "python",
   "pygments_lexer": "ipython2",
   "version": "2.7.6"
  }
 },
 "nbformat": 4,
 "nbformat_minor": 0
}