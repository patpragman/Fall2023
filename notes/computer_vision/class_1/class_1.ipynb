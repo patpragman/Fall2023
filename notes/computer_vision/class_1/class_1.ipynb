{
 "cells": [
  {
   "cell_type": "code",
   "metadata": {
    "collapsed": true,
    "pycharm": {
     "name": "#%%\n"
    }
   },
   "source": [
    "for i in range(0,5):\n",
    "    print(i)\n"
   ],
   "execution_count": null,
   "outputs": []
  },
  {
   "cell_type": "markdown",
   "source": [
    "notes!  $are \\textit{ } g^{o^{o^{d^!}}}$"
   ],
   "metadata": {
    "collapsed": false,
    "pycharm": {
     "name": "#%% md\n"
    }
   }
  },
  {
   "cell_type": "markdown",
   "source": [
    "* Fundamentals and Python Intro\n",
    "* Image Filtering / Feature Detection\n",
    "* Image Transformations\n",
    "* Deep learning fundamentals\n",
    "* Transfer Learning and Pre-trained Models\n",
    "\n",
    "Midterm\n",
    "\n",
    "* Object Detection\n",
    "* Video Analysis\n",
    "* Anomaly Detection in Images and Videos\n",
    "* Project Presentations\n",
    "\n",
    "Project Presentations\n",
    "\n",
    "# Interdisciplinary Study of enabling machines to interpret and understand visual information from the world around us.\n",
    "\n",
    "Ok, cool, how?\n",
    "\n",
    "You'll get a lot of applications here\n",
    "\n",
    "Humans rapidly recognize and interpret image content.  Computers lack this immediate understanding.\n",
    "\n",
    "How do the computers convert the representation to a label?!\n",
    "\n",
    "Ok, so who cares?!  Why do this at all in the first place?\n",
    "\n",
    "* Speed\n",
    "* Cost\n",
    "* Automation\n",
    "* Scalability\n",
    "* Ease\n",
    "\n",
    "We will look into some applications\n",
    "\n",
    "* Manufacturing\n",
    "* Quality Control\n",
    "* Inspect Products and Detect Defects\n",
    "* Medical Imaging\n",
    "* Retail (automated checkout etc.)\n",
    "* Agriculture (jamie sykes)\n",
    "* Surgical Robots\n",
    "* Anomaly Detection?!\n",
    "\n",
    "# DON'T WAIT UNTIL THE END!\n",
    "\n"
   ],
   "metadata": {
    "collapsed": false
   }
  }
 ],
 "metadata": {
  "kernelspec": {
   "display_name": "Python 3",
   "language": "python",
   "name": "python3"
  },
  "language_info": {
   "codemirror_mode": {
    "name": "ipython",
    "version": 2
   },
   "file_extension": ".py",
   "mimetype": "text/x-python",
   "name": "python",
   "nbconvert_exporter": "python",
   "pygments_lexer": "ipython2",
   "version": "2.7.6"
  }
 },
 "nbformat": 4,
 "nbformat_minor": 0
}