{
 "cells": [
  {
   "cell_type": "markdown",
   "metadata": {
    "collapsed": true,
    "pycharm": {
     "name": "#%% md\n"
    }
   },
   "source": [
    "# Definitions\n",
    "\n",
    "* Element - an object on which a measurement is taken.\n",
    "* Population - a ollection of elements about which we wish to make an inference.\n",
    "* Sampling Units - non overlapping collections of elements from the population that cover the entire population.\n",
    "* Frame - a list of sampling units\n",
    "* Sample - a collection of sampling units drawn from a single frame, or multiple frames.\n",
    "\n",
    "\n",
    "Elements appear to be like columns in the data, a sampling unit is a whole row, and a frame is all the rows.\n",
    "\n",
    "Error of Estimation $=| \\theta - \\hat{\\theta} | < B$\n",
    "\n",
    "* $\\theta$ is the parameter we care about.\n",
    "* $\\hat{\\theta}$ is the estimator of $\\theta$\n",
    "* $B$ is the upper bound for acceptable error\n",
    "\n",
    "We also must state a probability that specifies the fraction of times in repeated sampling we require\n",
    "the error of estimation to be less than $B$ - this condition is stated as\n",
    "\n",
    "$P[\\textit{Error of Estimation} < B ] = 1 - \\alpha$\n",
    "\n",
    "We will usually select $B = 2 \\sigma_{\\hat{\\theta}}$ hence $(1 - \\alpha)$ will be about $0.95$\n",
    "(think 2 standard deviations).\n",
    "\n",
    "The whole book is based on probability samples.  That is, \"the classical formulation of a statistical estimation problem, as described here and in Ch 3\n",
    ", requires that randomness be built into the sampling design so that properties of the\n",
    "estimators can be assessed probabalistically.\"\n",
    "\n",
    "\n",
    "# Types of errors\n",
    "\n",
    "* Errors of Nonobservation - this is when the data in the sample do not precisely mirror the data in the population\n",
    "    * Coverage - this is where the sample frame doesn't match with the target population\n",
    "        * think like unlisted numbers meaning you can just use the phonebook for who you call\n",
    "    * non-response - probably the most serious,  where people just don't respond to survey questions\n",
    "        * inability to contact the sampled element (nobody home)\n",
    "        * inability of person contacted to come up with an answer\n",
    "        * refusal to answer - this one is really hard\n",
    "  \"the highest refusal rates occur among the elderly and the poorly educated, although this is not uniformly true for all surveys.\"\n",
    "\n",
    "* Errors of Observation\n",
    "    * The interviewers can be bad\n",
    "    * The respondents differ greatly in their motivation to answer correctly and in their ability to do so.\n",
    "    * Incorrect measurements in the measurement instruments\n",
    "\n",
    "# Major Limitations\n",
    "\n",
    "* Personal interviews.  The person conducting the interview can effect things\n",
    "* Telephone Interviews.  They're cheaper but it's hard to know if your frame is similar to the population.\n",
    "\n",
    "In phone interviews, with random digit dialing only about 20% of the numbers will lie within the frame of interest.\n",
    "\n",
    "* self-administered questionaires / web surveys.  Nonresponse and incorrect responses are even more serious than with other models.\n",
    "* Direct observation\n",
    "\n",
    "# Methods to reduce Errors in Surveys\n",
    "\n",
    "* Callbacks - non-response can be reduced by calling people back\n",
    "* Rewards and Incentives - this can cause problems\n",
    "* Trained Interviewers\n",
    "* Data checks\n",
    "* Constructing better questionaires\n",
    "\n",
    "# Questionaire Design\n",
    "\n",
    "1. Order matters, sometimes a lot.\n",
    "2. Open versus closed questions - you can accidentally force respondents into picking one thing when they want to be more nuanced.\n",
    "3. The options in a response matter.  You can mislead or ellicit responses with this if you're not careful.\n",
    "4."
   ]
  }
 ],
 "metadata": {
  "kernelspec": {
   "display_name": "Python 3",
   "language": "python",
   "name": "python3"
  },
  "language_info": {
   "codemirror_mode": {
    "name": "ipython",
    "version": 2
   },
   "file_extension": ".py",
   "mimetype": "text/x-python",
   "name": "python",
   "nbconvert_exporter": "python",
   "pygments_lexer": "ipython2",
   "version": "2.7.6"
  }
 },
 "nbformat": 4,
 "nbformat_minor": 0
}